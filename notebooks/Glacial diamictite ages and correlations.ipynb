{
 "cells": [
  {
   "cell_type": "markdown",
   "id": "17eca918-55c1-4f13-a7e8-21e96cd1fbc9",
   "metadata": {},
   "source": [
    "# Glacial diamictite ages and correlations\n",
    "This notebook can be used to: \n",
    "- Compute the posterior age of individual glacial diamictite units\n",
    "- Reproduce Fig. S40 (diamictite age ranges)\n",
    "- Determine which correlation schemes are allowed, given these posterior ages and stratigraphic superposition constraints \n",
    "- Compute the age of each Paleoproterozoic glaciation under different correlation scenarios"
   ]
  },
  {
   "cell_type": "code",
   "execution_count": 1,
   "id": "2ecfc296-9a4d-4ec9-85fd-c3863121f67a",
   "metadata": {},
   "outputs": [],
   "source": [
    "import arviz as az\n",
    "import matplotlib.pyplot as plt\n",
    "import numpy as np\n",
    "import pandas as pd\n",
    "import seaborn as sns\n",
    "import stratmc\n",
    "import warnings \n",
    "\n",
    "import scipy.stats as st\n",
    "\n",
    "from matplotlib.patches import Rectangle\n",
    "from tqdm.notebook import tqdm\n",
    "\n",
    "from matplotlib import rcParams\n",
    "rcParams['font.family'] = 'sans-serif'\n",
    "rcParams['font.sans-serif'] = ['Avenir']\n",
    "rcParams.update({\n",
    "    \"text.usetex\": False\n",
    "})\n",
    "\n",
    "warnings.simplefilter(action=\"ignore\", category=FutureWarning)\n",
    "warnings.simplefilter(action=\"ignore\", category=RuntimeWarning)"
   ]
  },
  {
   "cell_type": "markdown",
   "id": "df50dde3-a700-46cb-907d-63a772d00cc6",
   "metadata": {},
   "source": [
    "## Import data\n",
    "Load diamictite summary data from `diamictite_compilation.csv` and Paleoproterozoic d13C/age constraint data. The posterior ages listed in `diamictite_compilation.csv` are computed below in [Link diamictite units to posterior age models](#Link-diamictite-units-to-posterior-age-models) "
   ]
  },
  {
   "cell_type": "code",
   "execution_count": 2,
   "id": "ab0044e7-8799-42db-9609-b4ff34a0c240",
   "metadata": {},
   "outputs": [],
   "source": [
    "data = pd.read_csv('data/diamictite_compilation.csv')\n",
    "\n",
    "diamictites = np.unique(data['Diamictite'].values)\n",
    "formations = np.unique(data['Formation'].values)\n",
    "regions = np.unique(data['Region'].values)\n",
    "basins = np.unique(data['Supergroup/Association'].values)\n"
   ]
  },
  {
   "cell_type": "code",
   "execution_count": 3,
   "id": "db116de3-a71c-4367-9f7e-5fdf0b924bc2",
   "metadata": {},
   "outputs": [],
   "source": [
    "section_metadata = pd.read_csv('data/paleoproterozoic_section_metadata.csv')\n",
    "\n",
    "sample_df, ages_df =  stratmc.data.load_data('data/paleoproterozoic_data', \n",
    "                                             'data/paleoproterozoic_ages', \n",
    "                                             combine_no_superposition = False)\n",
    "\n",
    "sample_df_downsampled = stratmc.data.load_object('data/downsampling/downsampled_sample_df')\n"
   ]
  },
  {
   "cell_type": "code",
   "execution_count": 4,
   "id": "92b78a68-333d-4212-8616-81cf959aabcf",
   "metadata": {},
   "outputs": [],
   "source": [
    "priority_1_sections = section_metadata[(section_metadata['Inversion priority level']==1) & (~section_metadata['Included in composite section?'])]['section']\n",
    "priority_2_sections = section_metadata[(section_metadata['Inversion priority level']==2) & (~section_metadata['Included in composite section?'])]['section']\n",
    "priority_3_sections = section_metadata[(section_metadata['Inversion priority level']==3) & (~section_metadata['Included in composite section?'])]['section']\n",
    "priority_4_sections = section_metadata[(section_metadata['Inversion priority level']==4) & (~section_metadata['Included in composite section?'])]['section']\n",
    "\n",
    "include_sections = np.concatenate([priority_1_sections, priority_2_sections])"
   ]
  },
  {
   "cell_type": "markdown",
   "id": "1179d766-bd80-46bc-9b4d-d4afce3e8668",
   "metadata": {},
   "source": [
    "## Load posterior age models\n",
    "Load the Paleoproterozoic d13C inference results. Only required if re-computing posterior diamictite age ranges in [Link diamictite units to posterior age models](#Link-diamictite-units-to-posterior-age-models)."
   ]
  },
  {
   "cell_type": "code",
   "execution_count": 5,
   "id": "22aa875c-9f36-4bea-90f4-433596bba725",
   "metadata": {},
   "outputs": [],
   "source": [
    "full_trace = stratmc.data.load_trace(\"traces/\" + \"paleoproterozoic_d13C_trace\")"
   ]
  },
  {
   "cell_type": "markdown",
   "id": "0c9dd9a7-1425-4891-9e26-b3f0fd629b9f",
   "metadata": {},
   "source": [
    "## Link diamictite units to posterior age models\n",
    "Code to compute the posterior age of each diamictite unit. Running these cells is not required; computed ages are included in `diamictite_compilation.csv`."
   ]
  },
  {
   "cell_type": "code",
   "execution_count": 6,
   "id": "dd8972bb-9075-4b27-a679-ab1edbcafcf8",
   "metadata": {},
   "outputs": [],
   "source": [
    "# for co-eval sections, manually link to appropriate stratigraphic horizons in d13C sections (none are co-eval with entire section) \n",
    "height_range = {}\n",
    "\n",
    "height_range['Meteorite Bore Member'] = {'Turee Creek Composite': (259, 757)} # note - should just use depositional age for this one \n",
    "height_range['Kazput'] = {'Turee Creek Composite': (1180, 1503)}\n",
    "\n",
    "height_range['Lower Duitschland'] = {'Tongwane-Duitschland composite': (240, 244)} # younger than Tongwane, older than Duitschland\n",
    "\n",
    "height_range['Headquarters'] = {'Snowy Pass Supergroup Composite': (65, 115)} # younger than Vagner carbonates, older than Nash Fork"
   ]
  },
  {
   "cell_type": "code",
   "execution_count": 7,
   "id": "5695484d-441c-42cd-af0e-be9b457b4637",
   "metadata": {},
   "outputs": [
    {
     "data": {
      "application/vnd.jupyter.widget-view+json": {
       "model_id": "1831695924a54cf2808ea0d26a5090d3",
       "version_major": 2,
       "version_minor": 0
      },
      "text/plain": [
       "  0%|          | 0/17 [00:00<?, ?it/s]"
      ]
     },
     "metadata": {},
     "output_type": "display_data"
    },
    {
     "data": {
      "application/vnd.jupyter.widget-view+json": {
       "model_id": "89555acf4a5f490ba18ed036cf378f60",
       "version_major": 2,
       "version_minor": 0
      },
      "text/plain": [
       "  0%|          | 0/4 [00:00<?, ?it/s]"
      ]
     },
     "metadata": {},
     "output_type": "display_data"
    }
   ],
   "source": [
    "# create columns to store posterior diamictite ages (median and 95% envelopes)\n",
    "data['Max. posterior age (median)'] = np.nan\n",
    "data['Max. posterior age (97.5%)'] = np.nan\n",
    "data['Min. posterior age (median)'] = np.nan\n",
    "data['Min. posterior age (2.5%)'] = np.nan\n",
    "\n",
    "# iterate over diamictite units\n",
    "for i in tqdm(range(data.shape[0])): \n",
    "            \n",
    "    # compile list of sections that must be older than the current diamictite\n",
    "    if str(data.loc[i]['Older sections']) != 'nan': \n",
    "        older_sections = list([data.loc[i]['Older sections']])\n",
    "        older_sections = np.array([x.strip() for x in older_sections[0].split(',')])\n",
    "\n",
    "        older_sections = [section for section in older_sections if section in include_sections]\n",
    "\n",
    "    else: \n",
    "        older_sections = [] \n",
    "\n",
    "    # compile list of sections that must be younger than the current diamictite\n",
    "    if str(data.loc[i]['Younger sections']) != 'nan': \n",
    "        younger_sections = list([data.loc[i]['Younger sections']])\n",
    "        younger_sections = np.array([x.strip() for x in younger_sections[0].split(',')])\n",
    "        younger_sections = [section for section in younger_sections if section in include_sections]\n",
    "\n",
    "    else: \n",
    "        younger_sections = [] \n",
    "\n",
    "    # if age of diamictute is constrained by older sections, compute posterior maximum age\n",
    "    if len(older_sections) > 0: \n",
    "        # iterate over older sections\n",
    "        for k, section in enumerate(older_sections): \n",
    "            sec_ages = az.extract(full_trace.posterior)[section + '_ages'].values\n",
    "\n",
    "            # grab the youngest sample from each underlying section (which provide a maximum age constraint for the diamictite)\n",
    "            if k == 0: \n",
    "                youngest_sample_ages = sec_ages[-1, :]\n",
    "\n",
    "            else: \n",
    "                youngest_sample_ages = np.vstack([youngest_sample_ages,  sec_ages[-1, :]])\n",
    "\n",
    "        if len(youngest_sample_ages.shape) == 1: \n",
    "            youngest_sample_ages = youngest_sample_ages.reshape((1, youngest_sample_ages.shape[0]))\n",
    "\n",
    "        # tightest maximum age = youngest underlying sample (for each posterior draw) \n",
    "        youngest_sample_ages = np.min(youngest_sample_ages, axis = 0)\n",
    "\n",
    "        # save median inferred maximum age (i.e., median of youngest underlying sample ages)\n",
    "        data['Max. posterior age (median)'].iloc[i] = np.percentile(youngest_sample_ages, 50)\n",
    "        \n",
    "        # save 97.5 percentile maximum age (i.e., 97.5 percentile of youngest underlying sample ages)\n",
    "        data['Max. posterior age (97.5%)'].iloc[i] = np.percentile(youngest_sample_ages, 97.5)\n",
    "\n",
    "    # if age of diamictite is constrained by younger sections, compute posterior minimum age \n",
    "    if len(younger_sections) > 0: \n",
    "        # iterate over younger sections\n",
    "        for k, section in enumerate(younger_sections): \n",
    "            sec_ages = az.extract(full_trace.posterior)[section + '_ages'].values\n",
    "\n",
    "            # grab the oldest sample from each overlying section (which provides a minimum age constraint for the diamictite) \n",
    "            if k == 0: \n",
    "                oldest_sample_ages = sec_ages[0, :]\n",
    "\n",
    "            else: \n",
    "                oldest_sample_ages = np.vstack([oldest_sample_ages,  sec_ages[0, :]])\n",
    "\n",
    "\n",
    "        if len(oldest_sample_ages.shape) == 1: \n",
    "            oldest_sample_ages = oldest_sample_ages.reshape((1, oldest_sample_ages.shape[0]))\n",
    "\n",
    "        # tightest minimum age = oldest overlying sample (for each posterior draw) \n",
    "        oldest_sample_ages = np.max(oldest_sample_ages, axis = 0)\n",
    "\n",
    "        # save median inferred minimum age (i.e., median of oldest overlying sample ages)\n",
    "        data['Min. posterior age (median)'].iloc[i] = np.percentile(oldest_sample_ages, 50)\n",
    "        \n",
    "        # save 2.5 percentile minimum age (i.e., 2.5 percetile of oldest overlying sample ages)\n",
    "        data['Min. posterior age (2.5%)'].iloc[i] = np.percentile(oldest_sample_ages, 2.5)\n",
    "            \n",
    "# compute age ranges for co-eval sections that are linked to specific stratigraphic intervals \n",
    "for key in tqdm(list(height_range.keys())):\n",
    "    idx = np.where(data['Diamictite'] == key)[0]\n",
    "        \n",
    "    # note - if more than one linked section, would need to loop over them; not necessary given the current constraints\n",
    "    section = list(height_range[key].keys())[0]\n",
    "    \n",
    "    sec_ages = az.extract(full_trace.posterior)[section + '_ages'].values\n",
    "    \n",
    "    section_df = sample_df_downsampled[sample_df_downsampled['section'] == section]\n",
    "    \n",
    "    # grab ages of bounding samples, based on linked height ranges\n",
    "    lower_height = height_range[key][section][0]\n",
    "    upper_height = height_range[key][section][1]\n",
    "    \n",
    "    underlying_idx = section_df['height'] <= lower_height\n",
    "    overlying_idx = section_df['height'] >= upper_height\n",
    "    \n",
    "    under_ages = sec_ages[underlying_idx, :]\n",
    "    over_ages = sec_ages[overlying_idx, :]\n",
    "    \n",
    "    # grab youngest underlying sample age, which provides a maximum age constraint for the diamictite\n",
    "    youngest_underlying_ages = under_ages[-1, :]\n",
    "    \n",
    "    # grab oldest overlying sample age, which provides a minimum age constraint for the diamictite\n",
    "    oldest_overlying_ages = over_ages[0, :]\n",
    "    \n",
    "    # save median and 95% intervals for the diamictite, based on ages of the youngest underlying and oldest overlying samples\n",
    "    data['Max. posterior age (median)'].iloc[idx] = np.percentile(youngest_underlying_ages, 50)\n",
    "    data['Max. posterior age (97.5%)'].iloc[idx] = np.percentile(youngest_underlying_ages, 97.5)\n",
    "    \n",
    "    data['Min. posterior age (median)'].iloc[idx] = np.percentile(oldest_overlying_ages, 50)\n",
    "    data['Min. posterior age (2.5%)'].iloc[idx] = np.percentile(oldest_overlying_ages, 2.5)\n",
    "    \n",
    "# data.to_csv('data/diamictite_compilation_with_posterior_ages.csv', index = False)"
   ]
  },
  {
   "cell_type": "markdown",
   "id": "0713426e-241a-4f71-b58a-564594ecc827",
   "metadata": {},
   "source": [
    "## Plot diamictite age ranges (Fig. S40)\n"
   ]
  },
  {
   "cell_type": "code",
   "execution_count": 5,
   "id": "c010bdf9-0d11-42c7-ab5b-a8761e9f9fc7",
   "metadata": {},
   "outputs": [],
   "source": [
    "# basin order for plotting \n",
    "basins = ['Huronian Supergroup', \n",
    "          'Mount Bruce Supergroup', \n",
    "          'Transvaal Supergroup - Transvaal Basin', \n",
    "          'Transvaal Supergroup - Griqualand West', \n",
    "          'Imandra/Varzuga Greenstone Belt', \n",
    "          'Snowy Pass Supergroup',\n",
    "          'Marquette Range Supergroup (Marquette Range)', \n",
    "          'Marquette Range Supergroup (Menominee)']"
   ]
  },
  {
   "cell_type": "code",
   "execution_count": 6,
   "id": "6c367f5b-8b58-4cc5-a479-154df8d599e6",
   "metadata": {},
   "outputs": [
    {
     "data": {
      "image/png": "[encoded data removed]",
      "text/plain": [
       "<Figure size 700x500 with 1 Axes>"
      ]
     },
     "metadata": {},
     "output_type": "display_data"
    }
   ],
   "source": [
    "fig = plt.figure(figsize = (7, 5))\n",
    "ax = fig.gca() \n",
    "\n",
    "## plot the posterior age range for each basin\n",
    "\n",
    "base_value = 0\n",
    "plotted_depositional = False \n",
    "\n",
    "# iterate over basins\n",
    "for i, basin in enumerate(basins): \n",
    "    \n",
    "    if i > 0:\n",
    "        ax.axhline(base_value - 0.75, color = (0.95, 0.95, 0.95), linestyle = 'dashed', lw = 1)\n",
    "        \n",
    "    # filter data for current basin\n",
    "    basin_df = data[data['Supergroup/Association'] == basin]\n",
    "    \n",
    "    # grab stratigraphic order of diamictite units within the current basin \n",
    "    basin_levels = basin_df['Stratigraphic order (within basin)'].values\n",
    "    \n",
    "    # iterate over diamictite units within the current basin \n",
    "    for j in range(basin_df.shape[0]): \n",
    "        formation_df = basin_df.iloc[j]\n",
    "        \n",
    "        level = formation_df['Stratigraphic order (within basin)']\n",
    "        value = base_value + 0.4 * (level - 1) \n",
    "        \n",
    "        # check if diamictite has a depositional age (i.e., the diamictite unit has been dated directly)\n",
    "        dep_age = formation_df['Depositional age']\n",
    "        dep_age_std = formation_df['Depositional age std']\n",
    "\n",
    "        # check whether geochronological age constraints or posterior age models provide a tighter constraint on the minimum age of the diamictite unit, and grab tightest constraint\n",
    "        if formation_df['Min. posterior age (median)'] > formation_df['Min age']:\n",
    "            min_age = formation_df['Min. posterior age (median)'] \n",
    "            min_age_std = (formation_df['Min. posterior age (median)'] - formation_df['Min. posterior age (2.5%)'])/2 # equating 95% posterior interval to 2-sigma uncertainty of geochronological constraint\n",
    "\n",
    "        else:\n",
    "            min_age = formation_df['Min age']\n",
    "            min_age_std = formation_df['Min age std']\n",
    "\n",
    "        # check whether geochronological age constraints or posterior age models provide a tighter constraint on the maximum age of the diamictite unit, and grab tightest constraint\n",
    "        if formation_df['Max. posterior age (median)'] < formation_df['Max age']:\n",
    "            max_age = formation_df['Max. posterior age (median)']\n",
    "            max_age_std = (formation_df['Max. posterior age (97.5%)'] - formation_df['Max. posterior age (median)'])/2 # equating 95% posterior interval to 2-sigma uncertainty of geochronological constraint\n",
    "\n",
    "        else: \n",
    "            max_age = formation_df['Max age']\n",
    "            max_age_std = formation_df['Max age std']\n",
    "\n",
    "        color ='#C9D5F6'                 \n",
    "\n",
    "        label = '_nolabel'\n",
    "\n",
    "        # if the diamictite has a depositional age constraint, use that for plotting (should provide the tightest constraint) \n",
    "        if ~np.isnan(dep_age):\n",
    "            if not plotted_depositional: \n",
    "                dep_label = 'Depositional'\n",
    "                plotted_depositional = True\n",
    "\n",
    "            else: \n",
    "                dep_label = '_nolabel'\n",
    "\n",
    "            (_, caps, _) = ax.errorbar(dep_age, \n",
    "                           value, \n",
    "                           xerr = 2 * dep_age_std, \n",
    "                           alpha = 1, \n",
    "                           color = color, \n",
    "                           lw = 0.5, \n",
    "                           zorder = 8,\n",
    "                           capsize = 2,\n",
    "                             elinewidth = 0.5, \n",
    "                           clip_on = False)\n",
    "\n",
    "            for cap in caps:\n",
    "                cap.set_markeredgewidth(0.5)\n",
    "\n",
    "\n",
    "            ax.scatter(dep_age, \n",
    "                         value, \n",
    "                     color = color, \n",
    "                       marker = 'o',\n",
    "                    edgecolor = 'k',\n",
    "                       alpha = 1, #0.6,\n",
    "                     lw = 0.5,  \n",
    "                     zorder = 10, \n",
    "                    clip_on = True,\n",
    "                    s = 20, \n",
    "                      label = dep_label)\n",
    "            \n",
    "            ax.text(dep_age - 2 * dep_age_std - 10, value - 0.2, formation_df['Diamictite'], color = 'k', fontsize = 8)\n",
    "\n",
    "        # if diamictite does not have a depositional age constraint, use the minimum/maximum age identified above (from geochron or posterior age models)\n",
    "        else:\n",
    "            mean_age = (max_age + min_age)/2\n",
    "            right_error = (max_age - mean_age) + 2 * max_age_std\n",
    "            left_error = (mean_age - min_age) + 2 * min_age_std\n",
    "            xerr = np.array([left_error, right_error]).reshape(2, 1)\n",
    "\n",
    "            (_, caps, _)  = ax.errorbar(mean_age, \n",
    "                                        value, \n",
    "                                        xerr = xerr,\n",
    "                                        color = color, \n",
    "                                        alpha = 1,\n",
    "                                        lw = 0.5, \n",
    "                                        capsize = 2,\n",
    "                                        elinewidth = 0.5, \n",
    "                                        zorder = 3, \n",
    "                                        clip_on = False)\n",
    "\n",
    "            \n",
    "            ax.text(mean_age - left_error - 10, value - 0.2, formation_df['Diamictite'], color = 'k', fontsize = 8)\n",
    "\n",
    "            for cap in caps:\n",
    "                cap.set_markeredgewidth(0.5)\n",
    "\n",
    "            age_rect = Rectangle((min_age, value - 0.2), # lower left cornner\n",
    "                                max_age - min_age,  # width\n",
    "                                0.4,  # height\n",
    "                                facecolor = color, \n",
    "                                alpha = 1, #0.6,\n",
    "                                edgecolor = 'k', \n",
    "                                lw = 0.5,\n",
    "                                zorder = 4,\n",
    "                                clip_on = False) \n",
    "\n",
    "            ax.add_patch(age_rect)\n",
    "            \n",
    "\n",
    "    base_value += len(np.unique(basin_levels)) * 0.4 + 1\n",
    "        \n",
    "        \n",
    "ax.invert_xaxis()\n",
    "ax.set_yticks([])\n",
    "ax.set_xlim([2525, 2000])\n",
    "ax.set_xlabel('Age (Ma)')\n",
    "\n",
    "file = 'FigS40'\n",
    "fig.savefig(str(\"figures/\"+ file +\".pdf\"), format=\"pdf\", dpi = 500, facecolor='white', transparent=False, bbox_inches='tight', pad_inches=0.2)\n"
   ]
  },
  {
   "cell_type": "markdown",
   "id": "6fbda43d-15f4-4409-8d13-ca7df4c369a7",
   "metadata": {},
   "source": [
    "## Evaluate diamictite correlations\n",
    "Using the Huronian diamictite as a scaffold, check which diamictite units may be co-eval/associated with the same glacial event, given the geochronological age constraints and superposition constraints. Assumes a total of four Paleoproterozoic glaciations (the minimum required to explain the observations, assuming glaciations are global). "
   ]
  },
  {
   "cell_type": "code",
   "execution_count": 7,
   "id": "60fdcea3-4618-4f5b-b66a-ec3e1187b002",
   "metadata": {},
   "outputs": [],
   "source": [
    "# diamictite units in the Huronian Supergroup. Note that only three diamictites are preserved in this basin, but a fourth ('post-Gowganda') is required by the age constraints and stratigraphy elsewhere in the world\n",
    "huronian_diamictites = ['Ramsay Lake', 'Bruce', 'Gowganda', 'post-Gowganda']\n",
    "\n",
    "# compute the age range of each Huronian diamictute unit (95% envelopes)\n",
    "huronian_max_ages = {} \n",
    "huronian_min_ages = {} \n",
    "huronian_max_ages_95 = {} \n",
    "huronian_min_ages_95 = {} \n",
    "\n",
    "huronian_max_ages['Ramsay Lake'] = data[data['Diamictite'] == 'Ramsay Lake']['Max age'].values[0]\n",
    "huronian_min_ages['Ramsay Lake'] = data[data['Diamictite'] == 'Ramsay Lake']['Min. posterior age (median)'].values[0]\n",
    "huronian_max_ages_95['Ramsay Lake'] = data[data['Diamictite'] == 'Ramsay Lake']['Max age'].values[0] + 2 * data[data['Diamictite'] == 'Ramsay Lake']['Max age std'].values[0]\n",
    "huronian_min_ages_95['Ramsay Lake'] = data[data['Diamictite'] == 'Ramsay Lake']['Min. posterior age (2.5%)'].values[0]\n",
    "\n",
    "huronian_max_ages['Bruce'] = data[data['Diamictite'] == 'Bruce']['Max age'].values[0]\n",
    "huronian_min_ages['Bruce'] = data[data['Diamictite'] == 'Bruce']['Min. posterior age (median)'].values[0]\n",
    "huronian_max_ages_95['Bruce'] = data[data['Diamictite'] == 'Bruce']['Max age'].values[0] + 2 * data[data['Diamictite'] == 'Ramsay Lake']['Max age std'].values[0]\n",
    "huronian_min_ages_95['Bruce'] = data[data['Diamictite'] == 'Bruce']['Min. posterior age (2.5%)'].values[0]\n",
    "\n",
    "huronian_max_ages['Gowganda'] = data[data['Diamictite'] == 'Gowganda']['Max. posterior age (median)'].values[0]\n",
    "huronian_min_ages['Gowganda'] = data[data['Diamictite'] == 'Gowganda']['Min age'].values[0]\n",
    "huronian_max_ages_95['Gowganda'] = data[data['Diamictite'] == 'Gowganda']['Max. posterior age (97.5%)'].values[0]\n",
    "huronian_min_ages_95['Gowganda'] = data[data['Diamictite'] == 'Gowganda']['Min age'].values[0] - 2 * data[data['Diamictite'] == 'Gowganda']['Min age std'].values[0] \n",
    "\n",
    "huronian_max_ages['post-Gowganda'] = huronian_min_ages['Gowganda'] # set equal to median Gowganda min age \n",
    "huronian_min_ages['post-Gowganda'] = 0 # no minimum age since event not perserved in this basin\n",
    "huronian_max_ages_95['post-Gowganda'] = huronian_min_ages_95['Gowganda'] # set equal to 95% Gowganda min age \n",
    "huronian_min_ages_95['post-Gowganda'] = 0 # no minimum age since event not preserved in this basin \n",
    "\n",
    "# compute the age range of each diamictite\n",
    "diamictite_max_ages_95 = {} \n",
    "diamictite_min_ages_95 = {} \n",
    "for diamictite in diamictites: \n",
    "    formation_df = data[data['Diamictite'] == diamictite]\n",
    "\n",
    "    # grab min/max age for diamictite\n",
    "    dep_age = formation_df['Depositional age'].values[0]\n",
    "    dep_age_std = formation_df['Depositional age std'].values[0]\n",
    "\n",
    "    if ~(np.isnan(dep_age)): \n",
    "        diamictite_min_ages_95[diamictite] = dep_age - 2 * dep_age_std\n",
    "\n",
    "    elif formation_df['Min. posterior age (median)'].values[0] > formation_df['Min age'].values[0]:\n",
    "        diamictite_min_ages_95[diamictite] = formation_df['Min. posterior age (2.5%)'].values[0]\n",
    "\n",
    "    else:\n",
    "        diamictite_min_ages_95[diamictite] = formation_df['Min age'].values[0] - 2 * formation_df['Min age std'].values[0]\n",
    "\n",
    "    if ~np.isnan(dep_age): \n",
    "        diamictite_max_ages_95[diamictite] = dep_age + 2 * dep_age_std\n",
    "\n",
    "    elif formation_df['Max. posterior age (median)'].values[0] < formation_df['Max age'].values[0]:\n",
    "        diamictite_max_ages_95[diamictite] = formation_df['Max. posterior age (97.5%)'].values[0]\n",
    "\n",
    "    else: \n",
    "        diamictite_max_ages_95[diamictite] = formation_df['Max age'].values[0] + 2 * formation_df['Max age std'].values[0]\n",
    "    \n",
    "    \n",
    "overlap_results_95 = {} \n",
    "# check whether correlation between each non-Huronian diamictite and each Huronian diamictite are allowed (i.e., whether the 95% age ranges overlap)\n",
    "for diamictite in diamictites: \n",
    "    if diamictite not in huronian_diamictites:\n",
    "        overlap_results_95[diamictite] = {} \n",
    "        \n",
    "        # check whether age range overlaps w/ each Huronian diamictite\n",
    "        for huronian_diamictite in huronian_diamictites: \n",
    "            interval = pd.Interval(diamictite_min_ages_95[diamictite], diamictite_max_ages_95[diamictite]) \n",
    "            huronian_interval = pd.Interval(huronian_min_ages_95[huronian_diamictite], huronian_max_ages_95[huronian_diamictite]) \n",
    "\n",
    "            # checking whether the age ranges overlap (true/false output)\n",
    "            overlap_results_95[diamictite][huronian_diamictite] = interval.overlaps(huronian_interval)\n"
   ]
  },
  {
   "cell_type": "markdown",
   "id": "6955a053-989d-4a4a-8441-f538eaac7052",
   "metadata": {},
   "source": [
    "### Table S3 (diamictite correlations)"
   ]
  },
  {
   "cell_type": "code",
   "execution_count": 8,
   "id": "27dce2e0-8f05-4fbf-88f0-a79fc91e7f0b",
   "metadata": {},
   "outputs": [],
   "source": [
    "correlation_df_95 = pd.DataFrame(columns = ['Ramsay Lake', 'Bruce', 'Gowganda', 'post-Gowganda'])\n",
    "\n",
    "ordered_diamictites = ['Boolgeeda', # Australia\n",
    "                       'Meteorite Bore Member', \n",
    "                       'Kazput',\n",
    "                       'Lower Duitschland', # Transvaal (Transvaal)\n",
    "                       'Rooihoogte',\n",
    "                       'Rietfontein',\n",
    "                       'Makganyene', # Transvaal (Griqualand West)\n",
    "                       'Polisarka', # Imandra-Varzuga\n",
    "                       'Campbell Lake', # Snowy Pass\n",
    "                       'Vagner',\n",
    "                       'Headquarters', \n",
    "                       'Enchantment Lake', # Marquette Range Supergroup (Marquette) \n",
    "                       'Fern Creek' # Marquette Range Supergroup (Menominee)\n",
    "                      ]\n",
    " \n",
    "\n",
    "for diamictite in ordered_diamictites: \n",
    "    if diamictite not in huronian_diamictites: \n",
    "        \n",
    "        correlation_df_95.loc[diamictite] = overlap_results_95[diamictite]\n",
    "\n",
    "    \n",
    "for col in list(correlation_df_95): \n",
    "    correlation_df_95[col] = correlation_df_95[col].astype(float)"
   ]
  },
  {
   "cell_type": "code",
   "execution_count": 9,
   "id": "362c6a5c-5c67-4161-acaa-5640961ae1e1",
   "metadata": {},
   "outputs": [],
   "source": [
    "## address cases where correlation is not allowed due to stratigraphic constraints (e.g., the second diamictite within a given basin cannot be associated \n",
    "# with the oldest glaciation), even though the correlation is allowed by the geochronology\n",
    "\n",
    "# there are two younger diamictites in Australia (Pilbara), which means the Boolgeeda must be associated with glacial 1 or 2 (assuming four total glaciations)\n",
    "correlation_df_95.loc['Boolgeeda', 'Gowganda']= 0.5\n",
    "correlation_df_95.loc['Boolgeeda', 'post-Gowganda']= 0.5\n",
    "\n",
    "# there is one younger diamictite in Australia (Pilbara), which means the MBM cannot be associated with the fourth (youngest) glaciation\n",
    "correlation_df_95.loc['Meteorite Bore Member', 'post-Gowganda']= 0.5\n",
    "\n",
    "# in the Transvaal Basin, the overlying Rietfontein diamictite must be associated with the fourth glacial (due to geochron and correlation with Huronian)\n",
    "correlation_df_95.loc['Rooihoogte', 'post-Gowganda']= 0.5\n",
    "# there is also one underlying diamictite, which means the Rooihoogte cannot be associated with the first glacial\n",
    "correlation_df_95.loc['Rooihoogte', 'Ramsay Lake']= 0.5\n",
    "\n",
    "# there are two overlying diamictites in the Snowy Pass Supergroup, which means the Campbell Lake must be associated with glacial 1 or 2 (but not 3 or 4)\n",
    "correlation_df_95.loc['Campbell Lake', 'Gowganda']= 0.5\n",
    "correlation_df_95.loc['Campbell Lake', 'post-Gowganda']= 0.5\n",
    "# there is one underlying and one overlying diamictite in the Snowy Pass Supergroup, which means the Vagner cannot be associated with the first or fourth glaciation\n",
    "correlation_df_95.loc['Vagner', 'Ramsay Lake']= 0.5\n",
    "correlation_df_95.loc['Vagner', 'post-Gowganda']= 0.5\n",
    "\n",
    "# there are two underlying diamictites in the Snowy Pass Supergroup, which means the Headquarters cannot be associated with the first or second glaciation \n",
    "correlation_df_95.loc['Headquarters', 'Ramsay Lake']= 0.5\n",
    "correlation_df_95.loc['Headquarters', 'Bruce']= 0.5\n",
    "\n",
    "## the MBM and Rooihoogte formations MUST be associated with glacial #3 (Gowganda) --> any diamictites that do not have overalapping age ranges cannot be glacial 3 \n",
    "# grab age ranges for the MBM and Rooihoogte Formations\n",
    "mbm_interval = pd.Interval(diamictite_min_ages_95['Meteorite Bore Member'], diamictite_max_ages_95['Meteorite Bore Member']) \n",
    "rooihoogte_interval = pd.Interval(diamictite_min_ages_95['Rooihoogte'], diamictite_max_ages_95['Rooihoogte']) \n",
    "\n",
    "# check whether the age ranges of the other diamictites overlap; if not, the correlation is not allowed \n",
    "for diamictite in ordered_diamictites: \n",
    "    if diamictite not in huronian_diamictites: \n",
    "        if correlation_df_95.loc[diamictite]['Gowganda'] == 1: \n",
    "            interval = pd.Interval(diamictite_min_ages_95[diamictite], diamictite_max_ages_95[diamictite]) \n",
    "            \n",
    "            if not (interval.overlaps(mbm_interval)) & (interval.overlaps(rooihoogte_interval)): \n",
    "                correlation_df_95.loc[diamictite, 'Gowganda']= 0.5"
   ]
  },
  {
   "cell_type": "code",
   "execution_count": 10,
   "id": "73be93e2-2b64-4db7-9da7-144bedabfd7c",
   "metadata": {},
   "outputs": [
    {
     "data": {
      "text/html": [
       "<style type=\"text/css\">\n",
       "#T_31d5d_row0_col0, #T_31d5d_row0_col1, #T_31d5d_row1_col2, #T_31d5d_row2_col3, #T_31d5d_row3_col0, #T_31d5d_row3_col1, #T_31d5d_row4_col1, #T_31d5d_row4_col2, #T_31d5d_row5_col3, #T_31d5d_row6_col0, #T_31d5d_row6_col1, #T_31d5d_row7_col0, #T_31d5d_row7_col1, #T_31d5d_row8_col0, #T_31d5d_row8_col1, #T_31d5d_row9_col1, #T_31d5d_row9_col2, #T_31d5d_row10_col2, #T_31d5d_row10_col3, #T_31d5d_row11_col2, #T_31d5d_row11_col3, #T_31d5d_row12_col2, #T_31d5d_row12_col3 {\n",
       "  background-color: #3cb371;\n",
       "  color: #3cb371;\n",
       "  border: 1px solid black;\n",
       "}\n",
       "#T_31d5d_row0_col2, #T_31d5d_row0_col3, #T_31d5d_row1_col3, #T_31d5d_row4_col0, #T_31d5d_row4_col3, #T_31d5d_row6_col2, #T_31d5d_row7_col2, #T_31d5d_row8_col2, #T_31d5d_row8_col3, #T_31d5d_row9_col0, #T_31d5d_row9_col3, #T_31d5d_row10_col0, #T_31d5d_row10_col1 {\n",
       "  background-color: #ffd700;\n",
       "  color: #ffd700;\n",
       "  border: 1px solid black;\n",
       "}\n",
       "#T_31d5d_row1_col0, #T_31d5d_row1_col1, #T_31d5d_row2_col0, #T_31d5d_row2_col1, #T_31d5d_row2_col2, #T_31d5d_row3_col2, #T_31d5d_row3_col3, #T_31d5d_row5_col0, #T_31d5d_row5_col1, #T_31d5d_row5_col2, #T_31d5d_row6_col3, #T_31d5d_row7_col3, #T_31d5d_row11_col0, #T_31d5d_row11_col1, #T_31d5d_row12_col0, #T_31d5d_row12_col1 {\n",
       "  background-color: #cd5c5c;\n",
       "  color: #cd5c5c;\n",
       "  border: 1px solid black;\n",
       "}\n",
       "</style>\n",
       "<table id=\"T_31d5d\">\n",
       "  <thead>\n",
       "    <tr>\n",
       "      <th class=\"blank level0\" >&nbsp;</th>\n",
       "      <th id=\"T_31d5d_level0_col0\" class=\"col_heading level0 col0\" >Ramsay Lake</th>\n",
       "      <th id=\"T_31d5d_level0_col1\" class=\"col_heading level0 col1\" >Bruce</th>\n",
       "      <th id=\"T_31d5d_level0_col2\" class=\"col_heading level0 col2\" >Gowganda</th>\n",
       "      <th id=\"T_31d5d_level0_col3\" class=\"col_heading level0 col3\" >post-Gowganda</th>\n",
       "    </tr>\n",
       "  </thead>\n",
       "  <tbody>\n",
       "    <tr>\n",
       "      <th id=\"T_31d5d_level0_row0\" class=\"row_heading level0 row0\" >Boolgeeda</th>\n",
       "      <td id=\"T_31d5d_row0_col0\" class=\"data row0 col0\" >1.000000</td>\n",
       "      <td id=\"T_31d5d_row0_col1\" class=\"data row0 col1\" >1.000000</td>\n",
       "      <td id=\"T_31d5d_row0_col2\" class=\"data row0 col2\" >0.500000</td>\n",
       "      <td id=\"T_31d5d_row0_col3\" class=\"data row0 col3\" >0.500000</td>\n",
       "    </tr>\n",
       "    <tr>\n",
       "      <th id=\"T_31d5d_level0_row1\" class=\"row_heading level0 row1\" >Meteorite Bore Member</th>\n",
       "      <td id=\"T_31d5d_row1_col0\" class=\"data row1 col0\" >0.000000</td>\n",
       "      <td id=\"T_31d5d_row1_col1\" class=\"data row1 col1\" >0.000000</td>\n",
       "      <td id=\"T_31d5d_row1_col2\" class=\"data row1 col2\" >1.000000</td>\n",
       "      <td id=\"T_31d5d_row1_col3\" class=\"data row1 col3\" >0.500000</td>\n",
       "    </tr>\n",
       "    <tr>\n",
       "      <th id=\"T_31d5d_level0_row2\" class=\"row_heading level0 row2\" >Kazput</th>\n",
       "      <td id=\"T_31d5d_row2_col0\" class=\"data row2 col0\" >0.000000</td>\n",
       "      <td id=\"T_31d5d_row2_col1\" class=\"data row2 col1\" >0.000000</td>\n",
       "      <td id=\"T_31d5d_row2_col2\" class=\"data row2 col2\" >0.000000</td>\n",
       "      <td id=\"T_31d5d_row2_col3\" class=\"data row2 col3\" >1.000000</td>\n",
       "    </tr>\n",
       "    <tr>\n",
       "      <th id=\"T_31d5d_level0_row3\" class=\"row_heading level0 row3\" >Lower Duitschland</th>\n",
       "      <td id=\"T_31d5d_row3_col0\" class=\"data row3 col0\" >1.000000</td>\n",
       "      <td id=\"T_31d5d_row3_col1\" class=\"data row3 col1\" >1.000000</td>\n",
       "      <td id=\"T_31d5d_row3_col2\" class=\"data row3 col2\" >0.000000</td>\n",
       "      <td id=\"T_31d5d_row3_col3\" class=\"data row3 col3\" >0.000000</td>\n",
       "    </tr>\n",
       "    <tr>\n",
       "      <th id=\"T_31d5d_level0_row4\" class=\"row_heading level0 row4\" >Rooihoogte</th>\n",
       "      <td id=\"T_31d5d_row4_col0\" class=\"data row4 col0\" >0.500000</td>\n",
       "      <td id=\"T_31d5d_row4_col1\" class=\"data row4 col1\" >1.000000</td>\n",
       "      <td id=\"T_31d5d_row4_col2\" class=\"data row4 col2\" >1.000000</td>\n",
       "      <td id=\"T_31d5d_row4_col3\" class=\"data row4 col3\" >0.500000</td>\n",
       "    </tr>\n",
       "    <tr>\n",
       "      <th id=\"T_31d5d_level0_row5\" class=\"row_heading level0 row5\" >Rietfontein</th>\n",
       "      <td id=\"T_31d5d_row5_col0\" class=\"data row5 col0\" >0.000000</td>\n",
       "      <td id=\"T_31d5d_row5_col1\" class=\"data row5 col1\" >0.000000</td>\n",
       "      <td id=\"T_31d5d_row5_col2\" class=\"data row5 col2\" >0.000000</td>\n",
       "      <td id=\"T_31d5d_row5_col3\" class=\"data row5 col3\" >1.000000</td>\n",
       "    </tr>\n",
       "    <tr>\n",
       "      <th id=\"T_31d5d_level0_row6\" class=\"row_heading level0 row6\" >Makganyene</th>\n",
       "      <td id=\"T_31d5d_row6_col0\" class=\"data row6 col0\" >1.000000</td>\n",
       "      <td id=\"T_31d5d_row6_col1\" class=\"data row6 col1\" >1.000000</td>\n",
       "      <td id=\"T_31d5d_row6_col2\" class=\"data row6 col2\" >0.500000</td>\n",
       "      <td id=\"T_31d5d_row6_col3\" class=\"data row6 col3\" >0.000000</td>\n",
       "    </tr>\n",
       "    <tr>\n",
       "      <th id=\"T_31d5d_level0_row7\" class=\"row_heading level0 row7\" >Polisarka</th>\n",
       "      <td id=\"T_31d5d_row7_col0\" class=\"data row7 col0\" >1.000000</td>\n",
       "      <td id=\"T_31d5d_row7_col1\" class=\"data row7 col1\" >1.000000</td>\n",
       "      <td id=\"T_31d5d_row7_col2\" class=\"data row7 col2\" >0.500000</td>\n",
       "      <td id=\"T_31d5d_row7_col3\" class=\"data row7 col3\" >0.000000</td>\n",
       "    </tr>\n",
       "    <tr>\n",
       "      <th id=\"T_31d5d_level0_row8\" class=\"row_heading level0 row8\" >Campbell Lake</th>\n",
       "      <td id=\"T_31d5d_row8_col0\" class=\"data row8 col0\" >1.000000</td>\n",
       "      <td id=\"T_31d5d_row8_col1\" class=\"data row8 col1\" >1.000000</td>\n",
       "      <td id=\"T_31d5d_row8_col2\" class=\"data row8 col2\" >0.500000</td>\n",
       "      <td id=\"T_31d5d_row8_col3\" class=\"data row8 col3\" >0.500000</td>\n",
       "    </tr>\n",
       "    <tr>\n",
       "      <th id=\"T_31d5d_level0_row9\" class=\"row_heading level0 row9\" >Vagner</th>\n",
       "      <td id=\"T_31d5d_row9_col0\" class=\"data row9 col0\" >0.500000</td>\n",
       "      <td id=\"T_31d5d_row9_col1\" class=\"data row9 col1\" >1.000000</td>\n",
       "      <td id=\"T_31d5d_row9_col2\" class=\"data row9 col2\" >1.000000</td>\n",
       "      <td id=\"T_31d5d_row9_col3\" class=\"data row9 col3\" >0.500000</td>\n",
       "    </tr>\n",
       "    <tr>\n",
       "      <th id=\"T_31d5d_level0_row10\" class=\"row_heading level0 row10\" >Headquarters</th>\n",
       "      <td id=\"T_31d5d_row10_col0\" class=\"data row10 col0\" >0.500000</td>\n",
       "      <td id=\"T_31d5d_row10_col1\" class=\"data row10 col1\" >0.500000</td>\n",
       "      <td id=\"T_31d5d_row10_col2\" class=\"data row10 col2\" >1.000000</td>\n",
       "      <td id=\"T_31d5d_row10_col3\" class=\"data row10 col3\" >1.000000</td>\n",
       "    </tr>\n",
       "    <tr>\n",
       "      <th id=\"T_31d5d_level0_row11\" class=\"row_heading level0 row11\" >Enchantment Lake</th>\n",
       "      <td id=\"T_31d5d_row11_col0\" class=\"data row11 col0\" >0.000000</td>\n",
       "      <td id=\"T_31d5d_row11_col1\" class=\"data row11 col1\" >0.000000</td>\n",
       "      <td id=\"T_31d5d_row11_col2\" class=\"data row11 col2\" >1.000000</td>\n",
       "      <td id=\"T_31d5d_row11_col3\" class=\"data row11 col3\" >1.000000</td>\n",
       "    </tr>\n",
       "    <tr>\n",
       "      <th id=\"T_31d5d_level0_row12\" class=\"row_heading level0 row12\" >Fern Creek</th>\n",
       "      <td id=\"T_31d5d_row12_col0\" class=\"data row12 col0\" >0.000000</td>\n",
       "      <td id=\"T_31d5d_row12_col1\" class=\"data row12 col1\" >0.000000</td>\n",
       "      <td id=\"T_31d5d_row12_col2\" class=\"data row12 col2\" >1.000000</td>\n",
       "      <td id=\"T_31d5d_row12_col3\" class=\"data row12 col3\" >1.000000</td>\n",
       "    </tr>\n",
       "  </tbody>\n",
       "</table>\n"
      ],
      "text/plain": [
       "<pandas.io.formats.style.Styler at 0x168554ad0>"
      ]
     },
     "execution_count": 10,
     "metadata": {},
     "output_type": "execute_result"
    }
   ],
   "source": [
    "def color(val):\n",
    "    d = {0:'#cd5c5c', 1: '#3cb371', 0.5:'#ffd700'}\n",
    "    return f'background-color: {d[val]}; color: {d[val]}; border: 1px solid black' if val in d else ''\n",
    "\n",
    "s = correlation_df_95.style.applymap(color)\n",
    "\n",
    "s\n",
    "\n",
    "# # produce Latex table\n",
    "# print(s.to_latex(\n",
    "#     multicol_align=\"c|\", position=\"h!\", position_float=\"centering\",\n",
    "#     hrules=True, label=\"table:diamictite_correlations\", caption=\"Allowable correlations between Paleoproterozoic diamictites relative to the Huronian Supergroup (Canada), which contains (in ascending order) the glaciogenic Ramsay Lake, Bruce, and Gowganda Diamictites. Green indicates the correlation is allowed by the posterior diamictite age ranges and by the stratigraphy (assuming at most four distinct glacial events); yellow indicates that correlation is allowed by the age constraints, but not by the stratigraphy (e.g., if correlation would require more than four distinct glaciations); red indicates that correlation is preclused by the age constraints.\",\n",
    "#     multirow_align=\"c\", \n",
    "#     convert_css=True  \n",
    "# ))"
   ]
  },
  {
   "cell_type": "markdown",
   "id": "8b1ddc26-5fbb-4512-b93c-63467b222fce",
   "metadata": {},
   "source": [
    "## Inferred age range of each Paleoproterozoic glaciation\n",
    "Here, we consider the minimum and maximum age of each of the four Paleoproterozoic glacial events under different possible correlation schemes. The age range of each glacial is based on the minimum and maximum ages of all associated diamictite units."
   ]
  },
  {
   "cell_type": "markdown",
   "id": "80bd2953-30e8-46a2-a97f-3a3755a7a7c2",
   "metadata": {},
   "source": [
    "### Glacials 1 and 2"
   ]
  },
  {
   "cell_type": "markdown",
   "id": "29161c95-24ba-4597-b579-5eeccacdba88",
   "metadata": {},
   "source": [
    "### Scenario 1: Lower Duitschland = Glacial 1\n",
    "The most parsimonious scenario (given the age constraints) is: Glacial 1 = Lower Duitschland = Makganyene = Polisarka. However, all scenarios are considered below. "
   ]
  },
  {
   "cell_type": "markdown",
   "id": "36819985-752f-42d0-a3a2-9587f8db3065",
   "metadata": {},
   "source": [
    "#### Scenario 1.1: Duitschland = Makganyene = Polisarka = Ramsay Lake = Glacial 1"
   ]
  },
  {
   "cell_type": "code",
   "execution_count": 11,
   "id": "4e437190-b210-4175-ac07-492d501383a7",
   "metadata": {},
   "outputs": [
    {
     "name": "stdout",
     "output_type": "stream",
     "text": [
      "Age of first Huronian glaciation: between 2441.70 and 2435.65 Ma\n",
      "Age of second Huronian glaciation: between 2441.70 and 2387.28 Ma\n",
      "This scenario requires 2 ice ages w/in 54.42 Myr\n"
     ]
    }
   ],
   "source": [
    "glacial_2_min = np.max([diamictite_min_ages_95['Bruce']])\n",
    "\n",
    "glacial_1_min = np.max([diamictite_min_ages_95['Ramsay Lake'],\n",
    "                        diamictite_min_ages_95['Lower Duitschland'],\n",
    "                        diamictite_min_ages_95['Makganyene'],\n",
    "                        diamictite_min_ages_95['Polisarka'],\n",
    "                        glacial_2_min])\n",
    "\n",
    "# max is just geochron\n",
    "glacial_1_max = np.min([diamictite_max_ages_95['Ramsay Lake'],\n",
    "                        diamictite_max_ages_95['Lower Duitschland'],\n",
    "                        diamictite_max_ages_95['Makganyene'],\n",
    "                        diamictite_max_ages_95['Polisarka'],\n",
    "                        ])  \n",
    "\n",
    "glacial_2_max = np.min([diamictite_max_ages_95['Bruce'], \n",
    "                        glacial_1_max])  \n",
    "\n",
    "\n",
    "print(f'Age of first Huronian glaciation: between {glacial_1_max:.2f} and {glacial_1_min:.2f} Ma')  \n",
    "print(f'Age of second Huronian glaciation: between {glacial_2_max:.2f} and {glacial_2_min:.2f} Ma')        \n",
    "\n",
    "print(f'This scenario requires 2 ice ages w/in {glacial_1_max - glacial_2_min:.2f} Myr')\n",
    "\n",
    "# note - this is the most parsimonious correlation scenario; saving for later use\n",
    "glacial_1_max_soln_1 = glacial_1_max.copy()\n",
    "glacial_1_min_soln_1 = glacial_1_min.copy()\n",
    "\n",
    "glacial_2_max_soln_1 = glacial_2_max.copy()\n",
    "glacial_2_min_soln_1 = glacial_2_min.copy()"
   ]
  },
  {
   "cell_type": "markdown",
   "id": "1600bebb-335b-483d-9aaf-49bbfdcd1f4d",
   "metadata": {},
   "source": [
    "#### Scenario 1.2: Duitschland = Makganyene = Ramsay Lake = Glacial 1; Polisarka = Bruce = Glacial 2"
   ]
  },
  {
   "cell_type": "code",
   "execution_count": 12,
   "id": "652badcd-c96a-4d11-ac73-753c03436d40",
   "metadata": {},
   "outputs": [
    {
     "name": "stdout",
     "output_type": "stream",
     "text": [
      "Age of first Huronian glaciation: between 2441.70 and 2435.65 Ma\n",
      "Age of second Huronian glaciation: between 2441.70 and 2428.20 Ma\n",
      "This scenario requires 2 ice ages w/in 13.50 Myr\n"
     ]
    }
   ],
   "source": [
    "glacial_2_min = np.max([diamictite_min_ages_95['Bruce'], \n",
    "                       diamictite_min_ages_95['Polisarka']])\n",
    "\n",
    "glacial_1_min = np.max([diamictite_min_ages_95['Ramsay Lake'],\n",
    "                        diamictite_min_ages_95['Lower Duitschland'],\n",
    "                        diamictite_min_ages_95['Makganyene'],\n",
    "                        glacial_2_min])\n",
    "\n",
    "glacial_1_max = np.min([diamictite_max_ages_95['Ramsay Lake'],\n",
    "                        diamictite_max_ages_95['Lower Duitschland'],\n",
    "                        diamictite_max_ages_95['Makganyene'],\n",
    "                        ])  \n",
    "\n",
    "glacial_2_max = np.min([diamictite_max_ages_95['Bruce'], \n",
    "                        diamictite_max_ages_95['Polisarka'],\n",
    "                        glacial_1_max])  \n",
    "\n",
    "\n",
    "print(f'Age of first Huronian glaciation: between {glacial_1_max:.2f} and {glacial_1_min:.2f} Ma')  \n",
    "print(f'Age of second Huronian glaciation: between {glacial_2_max:.2f} and {glacial_2_min:.2f} Ma')        \n",
    "\n",
    "print(f'This scenario requires 2 ice ages w/in {glacial_1_max - glacial_2_min:.2f} Myr')\n"
   ]
  },
  {
   "cell_type": "markdown",
   "id": "6c6a9c35-f052-4cb6-9e9f-6768004fd063",
   "metadata": {},
   "source": [
    "#### Scenario 1.3: Duitschland = Polisarka = Ramsay Lake = Glacial 1; Makganyene = Bruce = Glacial 2"
   ]
  },
  {
   "cell_type": "code",
   "execution_count": 13,
   "id": "b22251fc-7297-4859-9684-6bf15f648edd",
   "metadata": {},
   "outputs": [
    {
     "name": "stdout",
     "output_type": "stream",
     "text": [
      "Age of first Huronian glaciation: between 2443.90 and 2435.65 Ma\n",
      "Age of second Huronian glaciation: between 2441.70 and 2423.00 Ma\n",
      "This scenario requires 2 ice ages w/in 20.90 Myr\n"
     ]
    }
   ],
   "source": [
    "glacial_2_min = np.max([diamictite_min_ages_95['Bruce'], \n",
    "                       diamictite_min_ages_95['Makganyene']])\n",
    "\n",
    "glacial_1_min = np.max([diamictite_min_ages_95['Ramsay Lake'],\n",
    "                        diamictite_min_ages_95['Lower Duitschland'],\n",
    "                        diamictite_min_ages_95['Polisarka'],\n",
    "                        glacial_2_min])\n",
    "\n",
    "glacial_1_max = np.min([diamictite_max_ages_95['Ramsay Lake'],\n",
    "                        diamictite_max_ages_95['Lower Duitschland'],\n",
    "                        diamictite_max_ages_95['Polisarka'],\n",
    "                        ])  \n",
    "\n",
    "glacial_2_max = np.min([diamictite_max_ages_95['Bruce'], \n",
    "                        diamictite_max_ages_95['Makganyene'],\n",
    "                        glacial_1_max])  \n",
    "\n",
    "\n",
    "print(f'Age of first Huronian glaciation: between {glacial_1_max:.2f} and {glacial_1_min:.2f} Ma')  \n",
    "print(f'Age of second Huronian glaciation: between {glacial_2_max:.2f} and {glacial_2_min:.2f} Ma')        \n",
    "\n",
    "print(f'This scenario requires 2 ice ages w/in {glacial_1_max - glacial_2_min:.2f} Myr')\n"
   ]
  },
  {
   "cell_type": "markdown",
   "id": "a97f4dd7-0fd5-4b98-a498-ca9382071510",
   "metadata": {},
   "source": [
    "#### Scenario 1.4: Duitschland = Ramsay Lake = Glacial 1; Makganyene = Polisarka = Bruce = Glacial 2"
   ]
  },
  {
   "cell_type": "code",
   "execution_count": 14,
   "id": "7752f9a5-9435-4ec6-b656-19bf6daa029d",
   "metadata": {},
   "outputs": [
    {
     "name": "stdout",
     "output_type": "stream",
     "text": [
      "Age of first Huronian glaciation: between 2458.70 and 2435.65 Ma\n",
      "Age of second Huronian glaciation: between 2441.70 and 2428.20 Ma\n",
      "This scenario requires 2 ice ages w/in 30.50 Myr\n"
     ]
    }
   ],
   "source": [
    "glacial_2_min = np.max([diamictite_min_ages_95['Bruce'], \n",
    "                       diamictite_min_ages_95['Makganyene'], \n",
    "                       diamictite_min_ages_95['Polisarka'],])\n",
    "\n",
    "glacial_1_min = np.max([diamictite_min_ages_95['Ramsay Lake'],\n",
    "                        diamictite_min_ages_95['Lower Duitschland'],\n",
    "                        glacial_2_min])\n",
    "\n",
    "glacial_1_max = np.min([diamictite_max_ages_95['Ramsay Lake'],\n",
    "                        diamictite_max_ages_95['Lower Duitschland'],\n",
    "                        ])  \n",
    "\n",
    "glacial_2_max = np.min([diamictite_max_ages_95['Bruce'], \n",
    "                        diamictite_max_ages_95['Makganyene'],\n",
    "                        diamictite_max_ages_95['Polisarka'],\n",
    "                        glacial_1_max])  \n",
    "\n",
    "\n",
    "print(f'Age of first Huronian glaciation: between {glacial_1_max:.2f} and {glacial_1_min:.2f} Ma')  \n",
    "print(f'Age of second Huronian glaciation: between {glacial_2_max:.2f} and {glacial_2_min:.2f} Ma')        \n",
    "\n",
    "print(f'This scenario requires 2 ice ages w/in {glacial_1_max - glacial_2_min:.2f} Myr')\n",
    "\n",
    "# this configuration provides the most conservative (i.e., loosest) minimum and maximum age constraints for the first glacial; save for later use\n",
    "glacial_1_max_max = glacial_1_max.copy()\n",
    "glacial_1_min_min = glacial_1_min.copy() "
   ]
  },
  {
   "cell_type": "markdown",
   "id": "c5c4fc94-28f1-44a3-b312-612b8e10b980",
   "metadata": {},
   "source": [
    "### Scenario 2: Lower Duitschland = Glacial 2 \n"
   ]
  },
  {
   "cell_type": "markdown",
   "id": "b179f637-452d-49b6-8b80-6199a24e7d04",
   "metadata": {},
   "source": [
    "#### Scenario 2.1: Lower Duitschland = Makganyene = Polisarka = Bruce = Glacial 2; Ramsay Lake = Glacial 1 (only occurrence) "
   ]
  },
  {
   "cell_type": "code",
   "execution_count": 15,
   "id": "a0876c33-695e-4621-9d32-9cf4449d6c2d",
   "metadata": {},
   "outputs": [
    {
     "name": "stdout",
     "output_type": "stream",
     "text": [
      "Age of first Huronian glaciation: between 2458.70 and 2435.65 Ma\n",
      "Age of second Huronian glaciation: between 2441.70 and 2435.65 Ma\n",
      "This scenario requires 2 ice ages w/in 23.05 Myr\n"
     ]
    }
   ],
   "source": [
    "glacial_2_min = np.max([diamictite_min_ages_95['Lower Duitschland'],\n",
    "                        diamictite_min_ages_95['Makganyene'],\n",
    "                       diamictite_min_ages_95['Polisarka'],\n",
    "                       diamictite_min_ages_95['Bruce']])\n",
    "\n",
    "\n",
    "glacial_1_min = np.max([diamictite_min_ages_95['Ramsay Lake'],\n",
    "                        glacial_2_min])\n",
    "\n",
    "glacial_1_max = np.min([diamictite_max_ages_95['Ramsay Lake'],\n",
    "                        ])  \n",
    "\n",
    "glacial_2_max = np.min([diamictite_max_ages_95['Lower Duitschland'],\n",
    "                        diamictite_max_ages_95['Makganyene'],\n",
    "                       diamictite_max_ages_95['Polisarka'],\n",
    "                       diamictite_max_ages_95['Bruce'], \n",
    "                       glacial_1_max])  \n",
    "\n",
    "print(f'Age of first Huronian glaciation: between {glacial_1_max:.2f} and {glacial_1_min:.2f} Ma')  \n",
    "print(f'Age of second Huronian glaciation: between {glacial_2_max:.2f} and {glacial_2_min:.2f} Ma')        \n",
    "\n",
    "print(f'This scenario requires 2 ice ages w/in {glacial_1_max - glacial_2_min:.2f} Myr')\n"
   ]
  },
  {
   "cell_type": "markdown",
   "id": "043c7fad-7328-4145-93ff-7f24737d4192",
   "metadata": {},
   "source": [
    "#### Scenario 2.2: Lower Duitschland = Makganyene = Bruce = Glacial 2; Polisarka = Ramsay Lake = Glacial 1"
   ]
  },
  {
   "cell_type": "code",
   "execution_count": 16,
   "id": "03d4c831-e79b-4b16-a5fa-cc96dd66c04b",
   "metadata": {},
   "outputs": [
    {
     "name": "stdout",
     "output_type": "stream",
     "text": [
      "Age of first Huronian glaciation: between 2443.90 and 2435.65 Ma\n",
      "Age of second Huronian glaciation: between 2441.70 and 2435.65 Ma\n",
      "This scenario requires 2 ice ages w/in 8.25 Myr\n"
     ]
    }
   ],
   "source": [
    "glacial_2_min = np.max([diamictite_min_ages_95['Lower Duitschland'],\n",
    "                        diamictite_min_ages_95['Makganyene'],\n",
    "                       diamictite_min_ages_95['Bruce']])\n",
    "\n",
    "glacial_1_min = np.max([diamictite_min_ages_95['Ramsay Lake'],\n",
    "                        diamictite_min_ages_95['Polisarka'],\n",
    "                        glacial_2_min])\n",
    "\n",
    "glacial_1_max = np.min([diamictite_max_ages_95['Ramsay Lake'],\n",
    "                        diamictite_max_ages_95['Polisarka']\n",
    "                        ])  \n",
    "\n",
    "glacial_2_max = np.min([diamictite_max_ages_95['Lower Duitschland'],\n",
    "                        diamictite_max_ages_95['Makganyene'],\n",
    "                       diamictite_max_ages_95['Bruce'], \n",
    "                       glacial_1_max])  \n",
    "\n",
    "\n",
    "print(f'Age of first Huronian glaciation: between {glacial_1_max:.2f} and {glacial_1_min:.2f} Ma')  \n",
    "print(f'Age of second Huronian glaciation: between {glacial_2_max:.2f} and {glacial_2_min:.2f} Ma')        \n",
    "\n",
    "print(f'This scenario requires 2 ice ages w/in {glacial_1_max - glacial_2_min:.2f} Myr')\n"
   ]
  },
  {
   "cell_type": "markdown",
   "id": "b3a38734-0b9e-40eb-8aa7-74642cbbed48",
   "metadata": {},
   "source": [
    "#### Scenario 2.3: Lower Duitschland = Polisarka = Bruce = Glacial 2; Makganyene = Ramsay Lake = Glacial 1"
   ]
  },
  {
   "cell_type": "code",
   "execution_count": 17,
   "id": "b94629f7-307a-48b6-b4f6-93fdd18d35ad",
   "metadata": {},
   "outputs": [
    {
     "name": "stdout",
     "output_type": "stream",
     "text": [
      "Age of first Huronian glaciation: between 2441.70 and 2435.65 Ma\n",
      "Age of second Huronian glaciation: between 2441.70 and 2435.65 Ma\n",
      "This scenario requires 2 ice ages w/in 6.05 Myr\n"
     ]
    }
   ],
   "source": [
    "glacial_2_min = np.max([diamictite_min_ages_95['Lower Duitschland'],\n",
    "                        diamictite_min_ages_95['Polisarka'],\n",
    "                       diamictite_min_ages_95['Bruce']])\n",
    "\n",
    "\n",
    "glacial_1_min = np.max([diamictite_min_ages_95['Ramsay Lake'],\n",
    "                        diamictite_min_ages_95['Makganyene'],\n",
    "                        glacial_2_min])\n",
    "\n",
    "glacial_1_max = np.min([diamictite_max_ages_95['Ramsay Lake'],\n",
    "                        diamictite_max_ages_95['Makganyene']\n",
    "                        ])  \n",
    "\n",
    "glacial_2_max = np.min([diamictite_max_ages_95['Lower Duitschland'],\n",
    "                        diamictite_max_ages_95['Polisarka'],\n",
    "                       diamictite_max_ages_95['Bruce'], \n",
    "                       glacial_1_max])  \n",
    "\n",
    "print(f'Age of first Huronian glaciation: between {glacial_1_max:.2f} and {glacial_1_min:.2f} Ma')  \n",
    "print(f'Age of second Huronian glaciation: between {glacial_2_max:.2f} and {glacial_2_min:.2f} Ma')        \n",
    "\n",
    "print(f'This scenario requires 2 ice ages w/in {glacial_1_max - glacial_2_min:.2f} Myr')\n"
   ]
  },
  {
   "cell_type": "markdown",
   "id": "90ca7882-cab6-4c75-a6bd-3c65ca5971f5",
   "metadata": {},
   "source": [
    "#### Scenario 2.4: Lower Duitschland = Bruce = Glacial 2; Polisarka = Makganyene = Ramsay Lake = Glacial 1"
   ]
  },
  {
   "cell_type": "code",
   "execution_count": 18,
   "id": "f78fc6fd-653c-4ab1-b25e-d6bd9c55f94f",
   "metadata": {},
   "outputs": [
    {
     "name": "stdout",
     "output_type": "stream",
     "text": [
      "Age of first Huronian glaciation: between 2441.70 and 2435.65 Ma\n",
      "Age of second Huronian glaciation: between 2441.70 and 2435.65 Ma\n",
      "This scenario requires 2 ice ages w/in 6.05 Myr\n"
     ]
    }
   ],
   "source": [
    "glacial_2_min = np.max([diamictite_min_ages_95['Lower Duitschland'],\n",
    "                       diamictite_min_ages_95['Bruce']])\n",
    "\n",
    "\n",
    "glacial_1_min = np.max([diamictite_min_ages_95['Ramsay Lake'],\n",
    "                        diamictite_min_ages_95['Makganyene'],\n",
    "                        diamictite_min_ages_95['Polisarka'],\n",
    "                        glacial_2_min])\n",
    "\n",
    "glacial_1_max = np.min([diamictite_max_ages_95['Ramsay Lake'],\n",
    "                        diamictite_max_ages_95['Makganyene'],\n",
    "                        diamictite_max_ages_95['Polisarka']\n",
    "                        ])  \n",
    "\n",
    "glacial_2_max = np.min([diamictite_max_ages_95['Lower Duitschland'],\n",
    "                       diamictite_max_ages_95['Bruce'], \n",
    "                       glacial_1_max])  \n",
    "\n",
    "print(f'Age of first Huronian glaciation: between {glacial_1_max:.2f} and {glacial_1_min:.2f} Ma')  \n",
    "print(f'Age of second Huronian glaciation: between {glacial_2_max:.2f} and {glacial_2_min:.2f} Ma')        \n",
    "\n",
    "print(f'This scenario requires 2 ice ages w/in {glacial_1_max - glacial_2_min:.2f} Myr')\n"
   ]
  },
  {
   "cell_type": "markdown",
   "id": "49d637bf-e28c-44c3-bce9-a57e8e7580b6",
   "metadata": {},
   "source": [
    "## Glacial 3\n",
    "Tightly constrained by age of the Meteorite Bore Member, which must correlate to the Rooihoogte Formation "
   ]
  },
  {
   "cell_type": "code",
   "execution_count": 19,
   "id": "e94857dc-7680-43f3-8557-13855bc2dceb",
   "metadata": {},
   "outputs": [
    {
     "name": "stdout",
     "output_type": "stream",
     "text": [
      "Age of third Huronian glaciation: between 2402.97 and 2309.0 Ma\n",
      "Note: not using MBM depositional as both max. and min. age constraint; the interpretation of this age is slightly different than for other units because it directly dates deposition of the diamictite - also note the possibility that the age is somewhat younger than deposition. Therefore, using the maximum age for the Rooihoogte as the maximum age for Glacial 3.\n"
     ]
    }
   ],
   "source": [
    "glacial_3_min = np.max([diamictite_min_ages_95['Meteorite Bore Member'], diamictite_min_ages_95['Rooihoogte']])\n",
    "glacial_3_max = np.min([diamictite_max_ages_95['Rooihoogte']]) \n",
    "                                                      \n",
    "print(f'Age of third Huronian glaciation: between {glacial_3_max:.2f} and {glacial_3_min} Ma')\n",
    "print('Note: not using MBM depositional as both max. and min. age constraint; the interpretation of this age is slightly different than for other units because it directly dates deposition of the diamictite - also note the possibility that the age is somewhat younger than deposition. Therefore, using the maximum age for the Rooihoogte as the maximum age for Glacial 3.')"
   ]
  },
  {
   "cell_type": "markdown",
   "id": "9c301db5-56a6-4d19-82ad-72f0f64c8ce2",
   "metadata": {},
   "source": [
    "## Glacial 4\n",
    "Rietfontein and Kazput Formation = Glacial 4. Given that the Rietfontein and Kazput must be glacial 4, the minimum age for these formations also serves as a minimum age for the Paleoproterozoic glacial epoch. "
   ]
  },
  {
   "cell_type": "code",
   "execution_count": 20,
   "id": "be171e91-4a9a-43f6-a55d-c118e93948c2",
   "metadata": {},
   "outputs": [
    {
     "name": "stdout",
     "output_type": "stream",
     "text": [
      "Age of fourth Huronian glaciation: between 2262.00 and 2213.737514 Ma\n"
     ]
    }
   ],
   "source": [
    "glacial_4_min = np.max([diamictite_min_ages_95['Kazput'], diamictite_min_ages_95['Rietfontein']])\n",
    "glacial_4_max = np.min([diamictite_max_ages_95['Kazput'], diamictite_max_ages_95['Rietfontein']])\n",
    "                                                      \n",
    "print(f'Age of fourth Huronian glaciation: between {glacial_4_max:.2f} and {glacial_4_min} Ma')        "
   ]
  },
  {
   "cell_type": "markdown",
   "id": "e6c65c67-0b7b-4b5e-998e-5befded095cf",
   "metadata": {},
   "source": [
    "## Total Paleoproterozoic glacial epoch\n",
    "Compute the plausible age range for the entire Paleoproterozoic glacial epoch, given all of the correlation schemes explored above."
   ]
  },
  {
   "cell_type": "code",
   "execution_count": 21,
   "id": "daf3272f-c63a-4a27-8391-fb4cbf1574d0",
   "metadata": {},
   "outputs": [
    {
     "name": "stdout",
     "output_type": "stream",
     "text": [
      "All 4 glaciations must occur between: 2458.70 and 2213.74 Ma\n"
     ]
    }
   ],
   "source": [
    "# constrained by the most conservative (oldest possible) maximum age for glacial 1, and the most conservative (youngest possible) minimum age for glacial 4\n",
    "print(f'All 4 glaciations must occur between: {glacial_1_max_max:.2f} and {glacial_4_min:.2f} Ma')"
   ]
  },
  {
   "cell_type": "markdown",
   "id": "90667764-08c2-4758-a015-d2435ad70e79",
   "metadata": {},
   "source": [
    "## Summary: Age range of each glaciation"
   ]
  },
  {
   "cell_type": "code",
   "execution_count": 22,
   "id": "e976ee3c-33bb-4db4-a255-f51ad187b0de",
   "metadata": {},
   "outputs": [
    {
     "name": "stdout",
     "output_type": "stream",
     "text": [
      "Age of each glacial if Lower Duitschland = Makganyene = Polisarka = Ramsay Lake = Glacial 1:\n",
      "Glacial 1: 2441.70 - 2435.65 Ma\n",
      "Glacial 2: 2441.70 - 2387.28 Ma\n",
      "Glacial 3: 2402.97 - 2309.00 Ma\n",
      "Glacial 4: 2262.00 - 2213.74 Ma\n",
      "Most conservative age range for each glacial:\n",
      "Glacial 1: 2458.70 - 2435.65 Ma\n",
      "Glacial 2: 2441.70 - 2387.28 Ma\n",
      "Glacial 3: 2402.97 - 2309.00 Ma\n",
      "Glacial 4: 2262.00 - 2213.74 Ma\n"
     ]
    }
   ],
   "source": [
    "print('Age of each glacial if Lower Duitschland = Makganyene = Polisarka = Ramsay Lake = Glacial 1:')\n",
    "print(f'Glacial 1: {glacial_1_max_soln_1:.2f} - {glacial_1_min_soln_1:.2f} Ma')\n",
    "print(f'Glacial 2: {glacial_2_max_soln_1:.2f} - {glacial_2_min_soln_1:.2f} Ma')\n",
    "print(f'Glacial 3: {glacial_3_max:.2f} - {glacial_3_min:.2f} Ma')\n",
    "print(f'Glacial 4: {glacial_4_max:.2f} - {glacial_4_min:.2f} Ma')\n",
    "\n",
    "print('Most conservative age range for each glacial:')\n",
    "print(f'Glacial 1: {glacial_1_max_max:.2f} - {glacial_1_min_min:.2f} Ma')\n",
    "print(f'Glacial 2: {glacial_2_max_soln_1:.2f} - {glacial_2_min_soln_1:.2f} Ma')\n",
    "print(f'Glacial 3: {glacial_3_max:.2f} - {glacial_3_min:.2f} Ma')\n",
    "print(f'Glacial 4: {glacial_4_max:.2f} - {glacial_4_min:.2f} Ma')\n"
   ]
  },
  {
   "cell_type": "code",
   "execution_count": 23,
   "id": "10592b2d-d0c1-4696-8052-537dbacdb5e4",
   "metadata": {},
   "outputs": [],
   "source": [
    "# save most conservative age ranges for each glacial event (to be used in Fig. 2b)\n",
    "glacial_start = {'total': glacial_1_max_max, \n",
    "                '1': glacial_1_max_max,\n",
    "                '2': glacial_2_max_soln_1,\n",
    "                '3': glacial_3_max, \n",
    "                '4': glacial_4_max} \n",
    "glacial_end = {'total': glacial_4_min, \n",
    "                '1': glacial_1_min_min, \n",
    "                '2': glacial_2_min_soln_1,\n",
    "                '3': glacial_3_min, \n",
    "                '4': glacial_4_min} \n",
    "\n",
    "# stratmc.data.save_object(glacial_start, 'data/glacial_start_dict')\n",
    "# stratmc.data.save_object(glacial_end, 'data/glacial_end_dict')"
   ]
  }
 ],
 "metadata": {
  "kernelspec": {
   "display_name": "Python [conda env:stratmc-1.0-pypi]",
   "language": "python",
   "name": "conda-env-stratmc-1.0-pypi-py"
  },
  "language_info": {
   "codemirror_mode": {
    "name": "ipython",
    "version": 3
   },
   "file_extension": ".py",
   "mimetype": "text/x-python",
   "name": "python",
   "nbconvert_exporter": "python",
   "pygments_lexer": "ipython3",
   "version": "3.13.2"
  }
 },
 "nbformat": 4,
 "nbformat_minor": 5
}
