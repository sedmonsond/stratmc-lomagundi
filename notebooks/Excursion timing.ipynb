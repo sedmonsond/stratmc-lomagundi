{
 "cells": [
  {
   "cell_type": "markdown",
   "id": "07156fe4-09f2-4e55-a9a1-8bd9eb6fb5e5",
   "metadata": {},
   "source": [
    "# Timing and duration of the LJE\n",
    "This notebook can be used to: \n",
    "- Compute the onset, peak, and termination of the LJE for each posterior draw\n",
    "- Plot probability distributions and compute probability envelopes/most likely values for the excursion timing, magnitude, and duration"
   ]
  },
  {
   "cell_type": "code",
   "execution_count": 1,
   "id": "476f7530-e814-4aea-9bac-dcb13e786929",
   "metadata": {},
   "outputs": [],
   "source": [
    "import arviz as az\n",
    "import matplotlib.pyplot as plt\n",
    "import numpy as np\n",
    "import pandas as pd\n",
    "import seaborn as sns\n",
    "import stratmc\n",
    "import warnings \n",
    "\n",
    "from pathlib import Path\n",
    "from scipy.ndimage import gaussian_filter as gaussian\n",
    "from tqdm.notebook import tqdm\n",
    "\n",
    "from matplotlib import rcParams\n",
    "rcParams['font.family'] = 'sans-serif'\n",
    "rcParams['font.sans-serif'] = ['Avenir']\n",
    "rcParams.update({\n",
    "    \"text.usetex\": False\n",
    "})\n",
    "\n",
    "warnings.simplefilter(action=\"ignore\", category=FutureWarning)\n",
    "warnings.simplefilter(action=\"ignore\", category=RuntimeWarning)"
   ]
  },
  {
   "cell_type": "markdown",
   "id": "81f6adbf-03f2-4c20-82e4-8f5268379402",
   "metadata": {},
   "source": [
    "## Import data"
   ]
  },
  {
   "cell_type": "code",
   "execution_count": 2,
   "id": "a374a55b-e499-4fbb-8798-dcdd16c02494",
   "metadata": {},
   "outputs": [],
   "source": [
    "section_metadata = pd.read_csv('data/paleoproterozoic_section_metadata.csv')\n",
    "\n",
    "sample_df, ages_df =  stratmc.data.load_data('data/paleoproterozoic_data', \n",
    "                                             'data/paleoproterozoic_ages', \n",
    "                                             combine_no_superposition = False)\n",
    "\n",
    "sample_df_downsampled = stratmc.data.load_object('data/downsampling/downsampled_sample_df')\n"
   ]
  },
  {
   "cell_type": "markdown",
   "id": "afc59379-9ce5-4acc-91b7-eed453c37ed3",
   "metadata": {},
   "source": [
    "## Load Paleoproterozoic d13C inference"
   ]
  },
  {
   "cell_type": "code",
   "execution_count": 9,
   "id": "348c105e-f414-4928-bde7-346ed9fdee1a",
   "metadata": {},
   "outputs": [],
   "source": [
    "# load the 'all-data' inference results\n",
    "full_trace = stratmc.data.load_trace(\"traces/\" + \"paleoproterozoic_d13C_trace\")"
   ]
  },
  {
   "cell_type": "markdown",
   "id": "6f7da38b-88c4-4337-86c7-e242a55b0189",
   "metadata": {},
   "source": [
    "## Calculate excursion peak, onset, and termination\n",
    "Note - chain 7 signals are very jagged, and sometimes end up with spuriuos inflection points identified as the onset\n",
    "\n",
    "chain 15 was also having problems, because it's increasing during the entire pre-peak interval/decreasing for the entire post-peak interval. altered onset selection criteria to grab first point with d13C <=2 (instead of the lowest zero-crossing). Still not very reliable (a lot of variation due to jaggedness more so than actual differences in the signal), but more reasonable"
   ]
  },
  {
   "cell_type": "code",
   "execution_count": 14,
   "id": "19e6a7d1-c634-45f8-8bb2-6265f87b5c67",
   "metadata": {},
   "outputs": [
    {
     "data": {
      "application/vnd.jupyter.widget-view+json": {
       "model_id": "2ef691b1ece54ef9aa0d125fb626aad1",
       "version_major": 2,
       "version_minor": 0
      },
      "text/plain": [
       "  0%|          | 0/101000 [00:00<?, ?it/s]"
      ]
     },
     "metadata": {},
     "output_type": "display_data"
    }
   ],
   "source": [
    "duration = [] \n",
    "magnitude = []\n",
    "excursion_magnitude = [] \n",
    "onset_list = []\n",
    "onset_d13C_list = [] \n",
    "termination_list = []\n",
    "termination_d13C_list = []\n",
    "peak_list = [] \n",
    "peak_d13C_list = [] \n",
    "idx_list = []\n",
    "\n",
    "# whether to create and save a figure showing the selected onset and peak for each posterior draw. \n",
    "plot = True\n",
    "leg = True\n",
    "\n",
    "# create a folder to save figures\n",
    "if plot: \n",
    "    folder = f'figures/excursion_timing/'\n",
    "    dir_path = Path(folder)\n",
    "\n",
    "    if not dir_path.is_dir():\n",
    "        dir_path.mkdir()\n",
    "\n",
    "# total number of posterior draws = chains x draws per chain\n",
    "n_draws = len(full_trace.posterior.chain.values) * len(full_trace.posterior.draw.values) \n",
    "\n",
    "# extract posterior d13C signal inference from trace\n",
    "# shape = ages x draws \n",
    "d13c_pred = az.extract(full_trace.posterior_predictive)['f_pred_d13c'].values\n",
    "\n",
    "# age vector corresponding to d13C predictions\n",
    "ages_new = full_trace.X_new.X_new.values.ravel()\n",
    "\n",
    "# flip the age vector (oldest --> youngest) \n",
    "ages_new = np.flip(ages_new)\n",
    "\n",
    "# iterate over posterior raws\n",
    "for idx in tqdm(np.arange(n_draws)): \n",
    "    \n",
    "    # current d13C signal, flipped to match age vector (oldest --> youngest)\n",
    "    test_d13C = np.flip(d13c_pred[:, idx])\n",
    "\n",
    "    # compute gradient of d13C signal\n",
    "    # smooth to get rid of minor noise/jaggedness to curve\n",
    "    grad = np.gradient(gaussian(test_d13C, 3), ages_new.ravel())\n",
    "\n",
    "    # find zero-crossings of the gradient (i.e., inflection points)\n",
    "    zero_crossings = np.where(np.diff(np.sign(grad) >= 0))[-1]\n",
    "\n",
    "    # grab ages and d13C values associated with the zero-crossings \n",
    "    zero_crossing_ages = ages_new[zero_crossings]\n",
    "    zero_crossing_d13C = test_d13C[zero_crossings]\n",
    "    \n",
    "    ## find peak \n",
    "    peak_idx = np.argmax(zero_crossing_d13C[zero_crossing_ages > 1900]) \n",
    "    \n",
    "    peak_d13C = np.max(zero_crossing_d13C[zero_crossing_ages > 1900])\n",
    "    peak = zero_crossing_ages[zero_crossing_ages > 1900][peak_idx]\n",
    "    \n",
    "    ## find onset \n",
    "    \n",
    "    # calculate jumps in d13C between zero crossings\n",
    "    # negative jump = positive excursion\n",
    "    jump_to_next = []\n",
    "    for i in np.arange(len(zero_crossings) - 1): \n",
    "        # calculate the jump in d13C between change points\n",
    "        jump_to_next.append(zero_crossing_d13C[i] - zero_crossing_d13C[i + 1])\n",
    "\n",
    "    jump_to_next = np.array(jump_to_next)\n",
    "\n",
    "    \n",
    "    # check if there are multiple zero-crossings with d13C <= 2 that are older than the excursion peak \n",
    "    # the onset is the youngest inflection point with d13C <= 2 permil\n",
    "    onset_idx_cand = np.where((zero_crossing_ages > peak) & (zero_crossing_d13C <= 2))[0] \n",
    "    \n",
    "    # if at least one onset candidate, grab the youngest \n",
    "    if len(onset_idx_cand) > 0: \n",
    "        onset_idx = onset_idx_cand[-1]\n",
    "        \n",
    "        # link index back to original ages\n",
    "        onset = zero_crossing_ages[onset_idx]\n",
    "        onset_d13C = zero_crossing_d13C[onset_idx]\n",
    "        \n",
    "    # if no candidates (all pre-peak zero crossings have d13C > 2 permil), grab the youngest <2 permil d13C value\n",
    "    else:         \n",
    "        # check all the zero-crossings older than the excursion peak \n",
    "        # if len(zero_crossing_d13C[zero_crossing_ages > peak]) > 0:\n",
    "        #     # grab the index of the lowest pre-peak zero-crossing\n",
    "        #     onset_idx = np.where(zero_crossing_d13C == np.min(zero_crossing_d13C[zero_crossing_ages > peak]))[0][0]\n",
    "        #     onset = zero_crossing_ages[onset_idx]\n",
    "        #     onset_d13C = zero_crossing_d13C[onset_idx]\n",
    "        \n",
    "        if len(test_d13C[(ages_new > peak) & (test_d13C <= 2)]) > 0:\n",
    "            onset = ages_new[(ages_new > peak) & (test_d13C <= 2)][-1]\n",
    "            onset_d13C = test_d13C[(ages_new > peak) & (test_d13C <= 2)][-1]\n",
    "            \n",
    "        # if d13C is always >2 pre-peak, just grab the minimum pre-peak d13C value \n",
    "        else: \n",
    "            onset = ages_new[ages_new > peak][np.argmin(test_d13C[ages_new > peak])]\n",
    "            onset_d13C = np.min(test_d13C[ages_new > peak])\n",
    "         \n",
    "    ## find termination\n",
    "\n",
    "    # find candidates from zero-crossings: must be younger and have lower d13C than the peak, and fall below 2 permil (or, if onset was above 2 permil, below the onset d13C value)\n",
    "    termination_idx_cand = np.where((zero_crossing_ages < peak) & \n",
    "                                            (zero_crossing_d13C < peak_d13C) & \n",
    "                                            ((zero_crossing_d13C <= 2) | (zero_crossing_d13C <= onset_d13C)))[0]\n",
    "    \n",
    "    if len(termination_idx_cand) > 0: \n",
    "        # if there are values that hit or drop below the baseline, use the oldest one \n",
    "        termination_idx = termination_idx_cand[0]\n",
    "        termination_d13C = zero_crossing_d13C[termination_idx]\n",
    "        termination = zero_crossing_ages[termination_idx]\n",
    "    \n",
    "    # if no candidate inflection points, just grab the first post-peak d13C value <2 (or, if d13C stays above 2 permil, the minimum post-peak d13C value)\n",
    "    else: \n",
    "        # if d13C drops back to the onset value or lower, use that point\n",
    "        if len(test_d13C[(ages_new < peak) & (test_d13C <= onset_d13C)]) > 0:\n",
    "            termination = ages_new[(ages_new < peak) & (test_d13C <= 2)][0]\n",
    "            termination_d13C = test_d13C[(ages_new < peak) & (test_d13C <= 2)][0]\n",
    "            \n",
    "        # if d13C doesn't drop below the onest value, but it does drop below 2, use that point \n",
    "        elif len(test_d13C[(ages_new < peak) & (test_d13C <= 2)]) > 0:\n",
    "            termination = ages_new[(ages_new < peak) & (test_d13C <= 2)][0]\n",
    "            termination_d13C = test_d13C[(ages_new < peak) & (test_d13C <= 2)][0]\n",
    "                 \n",
    "        # if d13C stays above 2 permil, just grab the lowest post-peak value \n",
    "        else:       \n",
    "            termination = ages_new[ages_new < peak][np.argmin(test_d13C[ages_new < peak])]\n",
    "            termination_d13C = np.min(test_d13C[ages_new < peak])\n",
    "            \n",
    "        \n",
    "    # store excursion timing for the current draw in lists\n",
    "    onset_list.append(onset)\n",
    "    onset_d13C_list.append(onset_d13C)\n",
    "    termination_list.append(termination)\n",
    "    termination_d13C_list.append(termination_d13C)\n",
    "    peak_list.append(peak) \n",
    "    peak_d13C_list.append(peak_d13C) \n",
    "    \n",
    "    excursion_magnitude.append(zero_crossing_d13C[peak_idx] - onset_d13C)\n",
    "    \n",
    "    # make sure we've looked at every draw for each statistic\n",
    "    assert (len(peak_list) == len(onset_list) == len(termination_list))\n",
    "    \n",
    "    if plot: \n",
    "        \n",
    "        fig = plt.figure(figsize = (9, 6))\n",
    "        \n",
    "        ax = fig.gca() \n",
    "        \n",
    "        plt.title(idx, fontsize = 20) \n",
    "        ax.tick_params(labelsize = 16)\n",
    "        \n",
    "\n",
    "        plt.plot(ages_new, gaussian(test_d13C, 2), color = 'k', lw = 1, zorder = 0)\n",
    "        \n",
    "        plt.scatter(onset, onset_d13C, color = 'gold', zorder = 3, label = 'Onset', s = 70, edgecolor = 'k')\n",
    "\n",
    "        plt.scatter(termination, termination_d13C, color = 'green', zorder = 4, label = 'Termination', s = 70, edgecolor = 'k')\n",
    "                \n",
    "        plt.scatter(zero_crossing_ages[peak_idx], zero_crossing_d13C[peak_idx], zorder = 5, color = 'purple', label = 'Max', s = 70, edgecolor = 'k')\n",
    "        \n",
    "        plt.gca().invert_xaxis()\n",
    "        \n",
    "        plt.xlabel('Age (Ma)', fontsize = 20)\n",
    "        plt.ylabel('d13C', fontsize = 20)\n",
    "        \n",
    "        if leg: \n",
    "            plt.legend(fontsize = 8) \n",
    "        \n",
    "    fig.savefig(\"figures/excursion_timing/%s.jpg\" % str(idx))#.zfill(3))\n",
    "    \n",
    "    plt.close(fig)\n",
    "        \n",
    "stratmc.data.save_object(onset_list, 'data/excursion_stats/excursion_onset')\n",
    "stratmc.data.save_object(onset_d13C_list, 'data/excursion_stats/excursion_onset_d13C')\n",
    "stratmc.data.save_object(termination_list, 'data/excursion_stats/excursion_termination')\n",
    "stratmc.data.save_object(termination_d13C_list, 'data/excursion_stats/excursion_termination_d13C')\n",
    "stratmc.data.save_object(peak_list, 'data/excursion_stats/excursion_peak')\n",
    "stratmc.data.save_object(peak_d13C_list, 'data/excursion_stats/excursion_peak_d13C')"
   ]
  },
  {
   "cell_type": "markdown",
   "id": "0b76fdd5-7328-4b7b-9e01-fa5524faa16d",
   "metadata": {},
   "source": [
    "## Load excursion timing and compute summary statistics"
   ]
  },
  {
   "cell_type": "code",
   "execution_count": 3,
   "id": "47cbc019-e3c3-4929-be97-e0a303a98548",
   "metadata": {},
   "outputs": [],
   "source": [
    "# load pre-calculated excursion statistics: timing and d13C value at onset and peak\n",
    "onset_list = stratmc.data.load_object('data/excursion_stats/excursion_onset')\n",
    "onset_d13C_list = stratmc.data.load_object('data/excursion_stats/excursion_onset_d13C')\n",
    "\n",
    "peak_list = stratmc.data.load_object('data/excursion_stats/excursion_peak')\n",
    "peak_d13C_list = stratmc.data.load_object('data/excursion_stats/excursion_peak_d13C')\n",
    "\n",
    "termination_list = stratmc.data.load_object('data/excursion_stats/excursion_termination')\n",
    "termination_d13C_list = stratmc.data.load_object('data/excursion_stats/excursion_termination_d13C')"
   ]
  },
  {
   "cell_type": "code",
   "execution_count": 4,
   "id": "31242701-1557-4bc6-befe-fa8a5712e6b5",
   "metadata": {},
   "outputs": [
    {
     "name": "stdout",
     "output_type": "stream",
     "text": [
      "66% envelope for onset timing: 2386.0 - 2462.0\n",
      "95% envelope for onset timing: 2238.0 - 2551.0\n",
      "Most likely onset timing: 2444.7758775877587\n"
     ]
    },
    {
     "data": {
      "image/png": "[encoded data removed]",
      "text/plain": [
       "<Figure size 200x150 with 1 Axes>"
      ]
     },
     "metadata": {},
     "output_type": "display_data"
    }
   ],
   "source": [
    "from scipy.stats import gaussian_kde\n",
    "\n",
    "print(f'66% envelope for onset timing: {np.percentile(onset_list, 17)} - {np.percentile(onset_list, 100-17)}')\n",
    "print(f'95% envelope for onset timing: {np.percentile(onset_list, 2.5)} - {np.percentile(onset_list, 97.5)}')\n",
    "\n",
    "# compute maximum likelihood peak age\n",
    "dy = np.linspace(np.nanmin(onset_list), np.nanmax(onset_list), 10000)\n",
    "\n",
    "max_like = dy[np.argmax(gaussian_kde(onset_list)(dy))]\n",
    "\n",
    "print(f'Most likely onset timing: {max_like}')\n",
    "\n",
    "fig = plt.figure(figsize = (2, 1.5))\n",
    "plt.plot(dy, gaussian_kde(onset_list)(dy), color = 'k')\n",
    "plt.axvline(max_like, color = 'indianred', linestyle = 'dashed')\n",
    "plt.xlabel('Onset timing (Ma)')\n",
    "plt.gca().invert_xaxis()\n",
    "plt.show()\n"
   ]
  },
  {
   "cell_type": "code",
   "execution_count": 5,
   "id": "241fbc0e-a0a0-461e-a3e0-e0c701ec5fba",
   "metadata": {},
   "outputs": [
    {
     "name": "stdout",
     "output_type": "stream",
     "text": [
      "66% envelope for peak timing: 2124.0 - 2302.0\n",
      "95% envelope for peak timing: 2107.0 - 2331.0\n",
      "Most likely peak timing: 2129.856085608561\n"
     ]
    },
    {
     "data": {
      "image/png": "[encoded data removed]",
      "text/plain": [
       "<Figure size 200x150 with 1 Axes>"
      ]
     },
     "metadata": {},
     "output_type": "display_data"
    }
   ],
   "source": [
    "print(f'66% envelope for peak timing: {np.percentile(peak_list, 17)} - {np.percentile(peak_list, 100-17)}')\n",
    "print(f'95% envelope for peak timing: {np.percentile(peak_list, 2.5)} - {np.percentile(peak_list, 97.5)}')\n",
    " \n",
    "# compute maximum likelihood peak age\n",
    "dy = np.linspace(np.nanmin(peak_list), np.nanmax(peak_list), 10000)\n",
    "\n",
    "max_like = dy[np.argmax(gaussian_kde(peak_list)(dy))]\n",
    "\n",
    "print(f'Most likely peak timing: {max_like}')\n",
    "\n",
    "fig = plt.figure(figsize = (2, 1.5))\n",
    "plt.plot(dy, gaussian_kde(peak_list)(dy), color = 'k')\n",
    "plt.axvline(max_like, color = 'indianred', linestyle = 'dashed')\n",
    "plt.xlabel('Peak timing (Ma)')\n",
    "plt.gca().invert_xaxis()\n",
    "plt.show()"
   ]
  },
  {
   "cell_type": "code",
   "execution_count": 6,
   "id": "ddc3d592-1c55-4be7-917b-b267f7e78a8a",
   "metadata": {},
   "outputs": [
    {
     "name": "stdout",
     "output_type": "stream",
     "text": [
      "66% envelope for termination timing: 1896.0 - 2028.0\n",
      "95% envelope for termination timing: 1851.0 - 2049.0\n",
      "Most likely termination timing: 2018.15301530153\n"
     ]
    },
    {
     "data": {
      "image/png": "[encoded data removed]",
      "text/plain": [
       "<Figure size 200x150 with 1 Axes>"
      ]
     },
     "metadata": {},
     "output_type": "display_data"
    }
   ],
   "source": [
    "print(f'66% envelope for termination timing: {np.percentile(termination_list, 17)} - {np.percentile(termination_list, 100-17)}')\n",
    "print(f'95% envelope for termination timing: {np.percentile(termination_list, 2.5)} - {np.percentile(termination_list, 97.5)}')\n",
    " \n",
    "# compute maximum likelihood peak age\n",
    "dy = np.linspace(np.nanmin(termination_list), np.nanmax(termination_list), 10000)\n",
    "\n",
    "max_like = dy[np.argmax(gaussian_kde(termination_list)(dy))]\n",
    "\n",
    "print(f'Most likely termination timing: {max_like}')\n",
    "\n",
    "fig = plt.figure(figsize = (2, 1.5))\n",
    "plt.plot(dy, gaussian_kde(termination_list)(dy), color = 'k')\n",
    "plt.axvline(max_like, color = 'indianred', linestyle = 'dashed')\n",
    "plt.xlabel('Termination timing (Ma)')\n",
    "plt.gca().invert_xaxis()\n",
    "plt.show()"
   ]
  },
  {
   "cell_type": "code",
   "execution_count": 7,
   "id": "c201ffd2-0cd9-4536-8d9d-105e7e3c1063",
   "metadata": {},
   "outputs": [
    {
     "name": "stdout",
     "output_type": "stream",
     "text": [
      "66% envelope for duration: 376.0 - 509.0 Myr\n",
      "95% envelope for duration: 211.0 - 624.0 Myr\n",
      "Most likely peak d13C: 428.6987698769877\n"
     ]
    },
    {
     "data": {
      "image/png": "[encoded data removed]",
      "text/plain": [
       "<Figure size 200x150 with 1 Axes>"
      ]
     },
     "metadata": {},
     "output_type": "display_data"
    }
   ],
   "source": [
    "duration_list = np.array(onset_list) - np.array(termination_list)\n",
    "\n",
    "print(f'66% envelope for duration: {np.percentile(duration_list, 17)} - {np.percentile(duration_list, 100-17)} Myr')\n",
    "print(f'95% envelope for duration: {np.percentile(duration_list, 2.5)} - {np.percentile(duration_list, 97.5)} Myr')\n",
    "\n",
    "dy = np.linspace(np.nanmin(duration_list), np.nanmax(duration_list), 10000)\n",
    "\n",
    "max_like = dy[np.argmax(gaussian_kde(duration_list)(dy))]\n",
    "\n",
    "print(f'Most likely peak d13C: {max_like}') \n",
    "\n",
    "fig = plt.figure(figsize = (2, 1.5))\n",
    "plt.plot(dy, gaussian_kde(duration_list)(dy), color = 'k')\n",
    "plt.axvline(max_like, color = 'indianred', linestyle = 'dashed')\n",
    "plt.xlabel('Excursion duration')\n",
    "plt.show()"
   ]
  },
  {
   "cell_type": "code",
   "execution_count": 8,
   "id": "dd20bbdb-8331-44e8-a6d5-b6a7047e4f26",
   "metadata": {},
   "outputs": [
    {
     "name": "stdout",
     "output_type": "stream",
     "text": [
      "66% envelope for peak d13C: 6.09096256015565 - 8.158348915122389\n",
      "95% envelope for peak d13C: 4.988649492050679 - 9.457399265002968\n",
      "Most likely peak d13C: 7.3404330252828185\n"
     ]
    },
    {
     "data": {
      "image/png": "[encoded data removed]",
      "text/plain": [
       "<Figure size 200x150 with 1 Axes>"
      ]
     },
     "metadata": {},
     "output_type": "display_data"
    }
   ],
   "source": [
    "print(f'66% envelope for peak d13C: {np.percentile(peak_d13C_list, 17)} - {np.percentile(peak_d13C_list, 100-17)}')\n",
    "print(f'95% envelope for peak d13C: {np.percentile(peak_d13C_list, 2.5)} - {np.percentile(peak_d13C_list, 97.5)}')\n",
    "\n",
    "dy = np.linspace(np.nanmin(peak_d13C_list), np.nanmax(peak_d13C_list), 10000)\n",
    "\n",
    "max_like = dy[np.argmax(gaussian_kde(peak_d13C_list)(dy))]\n",
    "\n",
    "print(f'Most likely peak d13C: {max_like}') \n",
    "\n",
    "fig = plt.figure(figsize = (2, 1.5))\n",
    "plt.plot(dy, gaussian_kde(peak_d13C_list)(dy), color = 'k')\n",
    "plt.axvline(max_like, color = 'indianred', linestyle = 'dashed')\n",
    "plt.xlabel('Peak d13C')\n",
    "plt.show()"
   ]
  }
 ],
 "metadata": {
  "kernelspec": {
   "display_name": "Python [conda env:stratmc-1.0-pypi]",
   "language": "python",
   "name": "conda-env-stratmc-1.0-pypi-py"
  },
  "language_info": {
   "codemirror_mode": {
    "name": "ipython",
    "version": 3
   },
   "file_extension": ".py",
   "mimetype": "text/x-python",
   "name": "python",
   "nbconvert_exporter": "python",
   "pygments_lexer": "ipython3",
   "version": "3.13.2"
  }
 },
 "nbformat": 4,
 "nbformat_minor": 5
}
